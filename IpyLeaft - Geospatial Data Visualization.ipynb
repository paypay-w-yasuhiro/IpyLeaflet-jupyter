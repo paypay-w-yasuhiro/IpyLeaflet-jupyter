{
 "cells": [
  {
   "cell_type": "code",
   "execution_count": 2,
   "metadata": {
    "ExecuteTime": {
     "end_time": "2020-05-28T08:04:32.688604Z",
     "start_time": "2020-05-28T08:04:32.679916Z"
    }
   },
   "outputs": [],
   "source": [
    "from ipyleaflet import (Map, GeoData, basemaps, WidgetControl, GeoJSON,\n",
    "                        LayersControl, Icon, Marker,basemap_to_tiles, Choropleth,\n",
    "                        MarkerCluster, Heatmap,SearchControl, \n",
    "                        FullScreenControl)\n",
    "\n",
    "from ipywidgets import Text, HTML\n",
    "from branca.colormap import linear\n",
    "import geopandas as gpd\n",
    "import json"
   ]
  },
  {
   "cell_type": "code",
   "execution_count": 3,
   "metadata": {
    "ExecuteTime": {
     "end_time": "2020-05-28T08:05:21.183106Z",
     "start_time": "2020-05-28T08:05:05.418435Z"
    }
   },
   "outputs": [],
   "source": [
    "# Countries\n",
    "countries = gpd.read_file(gpd.datasets.get_path('naturalearth_lowres'))\n",
    "\n",
    "# Conflict Dataset Points\n",
    "africa_acled = gpd.read_file(\n",
    "    \"data/acled2019.shp\",\n",
    "    mask = countries[countries[\"continent\"] == \"Africa\"]\n",
    ")\n",
    "africa_acled"
   ]
  },
  {
   "cell_type": "code",
   "execution_count": 4,
   "metadata": {
    "ExecuteTime": {
     "end_time": "2020-05-28T08:05:50.318631Z",
     "start_time": "2020-05-28T08:05:50.220491Z"
    }
   },
   "outputs": [
    {
     "data": {
      "text/html": [
       "<div>\n",
       "<style scoped>\n",
       "    .dataframe tbody tr th:only-of-type {\n",
       "        vertical-align: middle;\n",
       "    }\n",
       "\n",
       "    .dataframe tbody tr th {\n",
       "        vertical-align: top;\n",
       "    }\n",
       "\n",
       "    .dataframe thead th {\n",
       "        text-align: right;\n",
       "    }\n",
       "</style>\n",
       "<table border=\"1\" class=\"dataframe\">\n",
       "  <thead>\n",
       "    <tr style=\"text-align: right;\">\n",
       "      <th></th>\n",
       "      <th>data_id</th>\n",
       "      <th>iso</th>\n",
       "      <th>event_id_c</th>\n",
       "      <th>event_id_n</th>\n",
       "      <th>event_date</th>\n",
       "      <th>year</th>\n",
       "      <th>time_preci</th>\n",
       "      <th>event_type</th>\n",
       "      <th>sub_event_</th>\n",
       "      <th>actor1</th>\n",
       "      <th>...</th>\n",
       "      <th>latitude</th>\n",
       "      <th>longitude</th>\n",
       "      <th>geo_precis</th>\n",
       "      <th>source</th>\n",
       "      <th>source_sca</th>\n",
       "      <th>notes</th>\n",
       "      <th>fatalities</th>\n",
       "      <th>timestamp</th>\n",
       "      <th>iso3</th>\n",
       "      <th>geometry</th>\n",
       "    </tr>\n",
       "  </thead>\n",
       "  <tbody>\n",
       "    <tr>\n",
       "      <th>0</th>\n",
       "      <td>6714129</td>\n",
       "      <td>706</td>\n",
       "      <td>SOM30213</td>\n",
       "      <td>30213</td>\n",
       "      <td>31 December 2019</td>\n",
       "      <td>2019</td>\n",
       "      <td>1</td>\n",
       "      <td>Battles</td>\n",
       "      <td>Armed clash</td>\n",
       "      <td>Al Shabaab</td>\n",
       "      <td>...</td>\n",
       "      <td>2.3963</td>\n",
       "      <td>45.0159</td>\n",
       "      <td>1</td>\n",
       "      <td>Undisclosed Source</td>\n",
       "      <td>Local partner-Other</td>\n",
       "      <td>31 December 2019. In Warmahan, Al Shabaab mili...</td>\n",
       "      <td>0</td>\n",
       "      <td>1578512393</td>\n",
       "      <td>SOM</td>\n",
       "      <td>POINT (45.01590 2.39630)</td>\n",
       "    </tr>\n",
       "    <tr>\n",
       "      <th>1</th>\n",
       "      <td>6723349</td>\n",
       "      <td>12</td>\n",
       "      <td>ALG7951</td>\n",
       "      <td>7951</td>\n",
       "      <td>31 December 2019</td>\n",
       "      <td>2019</td>\n",
       "      <td>1</td>\n",
       "      <td>Protests</td>\n",
       "      <td>Peaceful protest</td>\n",
       "      <td>Protesters (Algeria)</td>\n",
       "      <td>...</td>\n",
       "      <td>36.7525</td>\n",
       "      <td>3.0420</td>\n",
       "      <td>1</td>\n",
       "      <td>Liberte (Algeria); TSA Algerie; El Watan (Alge...</td>\n",
       "      <td>National</td>\n",
       "      <td>On 31 December 2019, students held their 45th ...</td>\n",
       "      <td>0</td>\n",
       "      <td>1579554007</td>\n",
       "      <td>DZA</td>\n",
       "      <td>POINT (3.04200 36.75250)</td>\n",
       "    </tr>\n",
       "    <tr>\n",
       "      <th>2</th>\n",
       "      <td>6723350</td>\n",
       "      <td>12</td>\n",
       "      <td>ALG7953</td>\n",
       "      <td>7953</td>\n",
       "      <td>31 December 2019</td>\n",
       "      <td>2019</td>\n",
       "      <td>1</td>\n",
       "      <td>Protests</td>\n",
       "      <td>Peaceful protest</td>\n",
       "      <td>Protesters (Algeria)</td>\n",
       "      <td>...</td>\n",
       "      <td>36.3650</td>\n",
       "      <td>6.6147</td>\n",
       "      <td>1</td>\n",
       "      <td>Liberte (Algeria); El Watan (Algeria)</td>\n",
       "      <td>National</td>\n",
       "      <td>On 31 December 2019, students held their 45th ...</td>\n",
       "      <td>0</td>\n",
       "      <td>1579554007</td>\n",
       "      <td>DZA</td>\n",
       "      <td>POINT (6.61470 36.36500)</td>\n",
       "    </tr>\n",
       "    <tr>\n",
       "      <th>3</th>\n",
       "      <td>6713368</td>\n",
       "      <td>404</td>\n",
       "      <td>KEN7182</td>\n",
       "      <td>7182</td>\n",
       "      <td>31 December 2019</td>\n",
       "      <td>2019</td>\n",
       "      <td>1</td>\n",
       "      <td>Violence against civilians</td>\n",
       "      <td>Attack</td>\n",
       "      <td>Police Forces of Kenya (2013-)</td>\n",
       "      <td>...</td>\n",
       "      <td>-3.3543</td>\n",
       "      <td>40.0209</td>\n",
       "      <td>1</td>\n",
       "      <td>Daily Nation (Kenya)</td>\n",
       "      <td>National</td>\n",
       "      <td>On December 31 2019, a suspected Al Shabaab re...</td>\n",
       "      <td>1</td>\n",
       "      <td>1578512391</td>\n",
       "      <td>KEN</td>\n",
       "      <td>POINT (40.02090 -3.35430)</td>\n",
       "    </tr>\n",
       "    <tr>\n",
       "      <th>4</th>\n",
       "      <td>6718756</td>\n",
       "      <td>180</td>\n",
       "      <td>DRC16324</td>\n",
       "      <td>16324</td>\n",
       "      <td>31 December 2019</td>\n",
       "      <td>2019</td>\n",
       "      <td>1</td>\n",
       "      <td>Battles</td>\n",
       "      <td>Armed clash</td>\n",
       "      <td>Military Forces of Democratic Republic of Cong...</td>\n",
       "      <td>...</td>\n",
       "      <td>-1.1869</td>\n",
       "      <td>29.4461</td>\n",
       "      <td>2</td>\n",
       "      <td>Kivu Security Tracker</td>\n",
       "      <td>Local partner-Other</td>\n",
       "      <td>On 31 December 2019, the FARDC attacked Mayi M...</td>\n",
       "      <td>0</td>\n",
       "      <td>1578943802</td>\n",
       "      <td>COD</td>\n",
       "      <td>POINT (29.44610 -1.18690)</td>\n",
       "    </tr>\n",
       "  </tbody>\n",
       "</table>\n",
       "<p>5 rows × 32 columns</p>\n",
       "</div>"
      ],
      "text/plain": [
       "   data_id  iso event_id_c  event_id_n        event_date  year  time_preci  \\\n",
       "0  6714129  706   SOM30213       30213  31 December 2019  2019           1   \n",
       "1  6723349   12    ALG7951        7951  31 December 2019  2019           1   \n",
       "2  6723350   12    ALG7953        7953  31 December 2019  2019           1   \n",
       "3  6713368  404    KEN7182        7182  31 December 2019  2019           1   \n",
       "4  6718756  180   DRC16324       16324  31 December 2019  2019           1   \n",
       "\n",
       "                   event_type        sub_event_  \\\n",
       "0                     Battles       Armed clash   \n",
       "1                    Protests  Peaceful protest   \n",
       "2                    Protests  Peaceful protest   \n",
       "3  Violence against civilians            Attack   \n",
       "4                     Battles       Armed clash   \n",
       "\n",
       "                                              actor1  ... latitude  longitude  \\\n",
       "0                                         Al Shabaab  ...   2.3963    45.0159   \n",
       "1                               Protesters (Algeria)  ...  36.7525     3.0420   \n",
       "2                               Protesters (Algeria)  ...  36.3650     6.6147   \n",
       "3                     Police Forces of Kenya (2013-)  ...  -3.3543    40.0209   \n",
       "4  Military Forces of Democratic Republic of Cong...  ...  -1.1869    29.4461   \n",
       "\n",
       "  geo_precis                                             source  \\\n",
       "0          1                                 Undisclosed Source   \n",
       "1          1  Liberte (Algeria); TSA Algerie; El Watan (Alge...   \n",
       "2          1              Liberte (Algeria); El Watan (Algeria)   \n",
       "3          1                               Daily Nation (Kenya)   \n",
       "4          2                              Kivu Security Tracker   \n",
       "\n",
       "            source_sca                                              notes  \\\n",
       "0  Local partner-Other  31 December 2019. In Warmahan, Al Shabaab mili...   \n",
       "1             National  On 31 December 2019, students held their 45th ...   \n",
       "2             National  On 31 December 2019, students held their 45th ...   \n",
       "3             National  On December 31 2019, a suspected Al Shabaab re...   \n",
       "4  Local partner-Other  On 31 December 2019, the FARDC attacked Mayi M...   \n",
       "\n",
       "  fatalities   timestamp iso3                   geometry  \n",
       "0          0  1578512393  SOM   POINT (45.01590 2.39630)  \n",
       "1          0  1579554007  DZA   POINT (3.04200 36.75250)  \n",
       "2          0  1579554007  DZA   POINT (6.61470 36.36500)  \n",
       "3          1  1578512391  KEN  POINT (40.02090 -3.35430)  \n",
       "4          0  1578943802  COD  POINT (29.44610 -1.18690)  \n",
       "\n",
       "[5 rows x 32 columns]"
      ]
     },
     "execution_count": 4,
     "metadata": {},
     "output_type": "execute_result"
    }
   ],
   "source": [
    "africa_acled.head()"
   ]
  },
  {
   "cell_type": "markdown",
   "metadata": {},
   "source": [
    "## Base maps, Markers & Icons\n"
   ]
  },
  {
   "cell_type": "code",
   "execution_count": 5,
   "metadata": {
    "ExecuteTime": {
     "end_time": "2020-05-28T08:10:47.588262Z",
     "start_time": "2020-05-28T08:10:47.529878Z"
    }
   },
   "outputs": [
    {
     "data": {
      "application/vnd.jupyter.widget-view+json": {
       "model_id": "117c8aeec2a745c9a1701a60d453355b",
       "version_major": 2,
       "version_minor": 0
      },
      "text/plain": [
       "Map(center=[57.71, 11.98], controls=(ZoomControl(options=['position', 'zoom_in_text', 'zoom_in_title', 'zoom_o…"
      ]
     },
     "metadata": {},
     "output_type": "display_data"
    }
   ],
   "source": [
    "center = [57.71, 11.98]\n",
    "zoom = 12\n",
    "\n",
    "m = Map(basemap=basemaps.Esri.WorldImagery, center=center, zoom=zoom)\n",
    "m"
   ]
  },
  {
   "cell_type": "code",
   "execution_count": 6,
   "metadata": {
    "ExecuteTime": {
     "end_time": "2020-05-28T08:19:28.971066Z",
     "start_time": "2020-05-28T08:19:28.956150Z"
    }
   },
   "outputs": [],
   "source": [
    "stamen = basemap_to_tiles(basemaps.Stamen.Toner)\n",
    "m.add_layer(stamen)"
   ]
  },
  {
   "cell_type": "code",
   "execution_count": 8,
   "metadata": {
    "ExecuteTime": {
     "end_time": "2020-05-28T08:24:53.071299Z",
     "start_time": "2020-05-28T08:24:53.049057Z"
    }
   },
   "outputs": [
    {
     "data": {
      "application/vnd.jupyter.widget-view+json": {
       "model_id": "117c8aeec2a745c9a1701a60d453355b",
       "version_major": 2,
       "version_minor": 0
      },
      "text/plain": [
       "Map(center=[57.710016656706465, 11.97990417480469], controls=(ZoomControl(options=['position', 'zoom_in_text',…"
      ]
     },
     "metadata": {},
     "output_type": "display_data"
    }
   ],
   "source": [
    "marker = Marker(location=center, draggable=False)\n",
    "m.add_layer(marker);\n",
    "\n",
    "m"
   ]
  },
  {
   "cell_type": "code",
   "execution_count": 13,
   "metadata": {
    "ExecuteTime": {
     "end_time": "2020-05-28T08:35:55.782974Z",
     "start_time": "2020-05-28T08:35:55.755064Z"
    }
   },
   "outputs": [
    {
     "data": {
      "application/vnd.jupyter.widget-view+json": {
       "model_id": "117c8aeec2a745c9a1701a60d453355b",
       "version_major": 2,
       "version_minor": 0
      },
      "text/plain": [
       "Map(center=[57.69534131685637, 12.036209106445314], controls=(ZoomControl(options=['position', 'zoom_in_text',…"
      ]
     },
     "metadata": {},
     "output_type": "display_data"
    }
   ],
   "source": [
    "icon_url = \"http://icons.iconarchive.com/icons/pelfusion/long-shadow-media/512/Maps-Pin-Place-icon.png\"\n",
    "\n",
    "icon = Icon(icon_url=icon_url)\n",
    "mark = Marker(location=[57.719503, 12.008843], icon=icon, rotation_angle=0,  rotation_origin='1280px 128px')\n",
    "m.add_layer(mark);\n",
    "m"
   ]
  },
  {
   "cell_type": "markdown",
   "metadata": {},
   "source": [
    "## Geodata and Map Styles"
   ]
  },
  {
   "cell_type": "code",
   "execution_count": 14,
   "metadata": {
    "ExecuteTime": {
     "end_time": "2020-05-28T08:49:03.717119Z",
     "start_time": "2020-05-28T08:49:03.485487Z"
    }
   },
   "outputs": [
    {
     "data": {
      "application/vnd.jupyter.widget-view+json": {
       "model_id": "3bd192c21ae54b5580db6bc5bfcc8dc1",
       "version_major": 2,
       "version_minor": 0
      },
      "text/plain": [
       "Map(center=[4.546647, 22.373178], controls=(ZoomControl(options=['position', 'zoom_in_text', 'zoom_in_title', …"
      ]
     },
     "metadata": {},
     "output_type": "display_data"
    }
   ],
   "source": [
    "center = [4.546647, 22.373178]\n",
    "zoom = 2\n",
    "\n",
    "africa = countries[countries[\"continent\"] == \"Africa\"]\n",
    "africaMap = Map(basemap=basemaps.CartoDB.Positron, center=center, zoom=zoom)\n",
    "geodata = GeoData(geo_dataframe = africa, \n",
    "                   style={'color': 'black', 'fillColor': '#E0D071', 'opacity':0.03, 'weight':1.9, 'dashArray':'2', 'fillOpacity':0.6},\n",
    "                   hover_style={'fillColor': '#b08a3e' , 'fillOpacity': 0.8},\n",
    "                   name = 'Countries')\n",
    "\n",
    "\n",
    "africaMap.add_layer(geodata)\n",
    "africaMap"
   ]
  },
  {
   "cell_type": "code",
   "execution_count": 15,
   "metadata": {
    "ExecuteTime": {
     "end_time": "2020-05-28T08:58:19.997484Z",
     "start_time": "2020-05-28T08:58:19.969600Z"
    }
   },
   "outputs": [],
   "source": [
    "html = HTML('''Hover Over Countries''')\n",
    "html.layout.margin = '0px 20px 20px 20px'\n",
    "control = WidgetControl(widget=html, position='topright')\n",
    "africaMap.add_control(control)\n",
    "\n",
    "def update_html(feature,  **kwargs):\n",
    "    html.value = '''\n",
    "        <h3><b>{}</b></h3>\n",
    "        <h4>GDP: {:.2e} people</h4> \n",
    "        <h4>Population: {}</h4>\n",
    "    '''.format(feature['properties']['name'],\n",
    "               feature['properties']['gdp_md_est'],\n",
    "               feature['properties']['pop_est'])\n",
    "\n",
    "geodata.on_hover(update_html)"
   ]
  },
  {
   "cell_type": "markdown",
   "metadata": {
    "ExecuteTime": {
     "end_time": "2020-05-28T09:03:52.785966Z",
     "start_time": "2020-05-28T09:03:52.780979Z"
    }
   },
   "source": [
    "### Choropleth Map"
   ]
  },
  {
   "cell_type": "code",
   "execution_count": 17,
   "metadata": {
    "ExecuteTime": {
     "end_time": "2020-05-28T09:04:31.863625Z",
     "start_time": "2020-05-28T09:04:31.700484Z"
    }
   },
   "outputs": [
    {
     "name": "stderr",
     "output_type": "stream",
     "text": [
      "C:\\Users\\Shakur\\Anaconda3\\envs\\geo\\lib\\site-packages\\ipykernel_launcher.py:1: FutureWarning: set_value is deprecated and will be removed in a future release. Please use .at[] or .iat[] accessors instead\n",
      "  \"\"\"Entry point for launching an IPython kernel.\n"
     ]
    }
   ],
   "source": [
    "africa = africa.set_value(60, 'name', \"Ivory Coast\")\n",
    "pop =  dict(zip(africa['name'].tolist(), africa['pop_est'].tolist()))\n",
    "africa[[\"name\", \"geometry\"]].to_file(\"data/africa.json\", driver=\"GeoJSON\", encoding='utf-8')\n",
    "geojson_data = json.load(open(\"data/africa.json\",'r'))"
   ]
  },
  {
   "cell_type": "code",
   "execution_count": 18,
   "metadata": {
    "ExecuteTime": {
     "end_time": "2020-05-28T09:04:44.636123Z",
     "start_time": "2020-05-28T09:04:44.629141Z"
    }
   },
   "outputs": [],
   "source": [
    "for feature in geojson_data['features']:\n",
    "    properties = feature['properties']\n",
    "    feature.update(id=properties['name'])\n",
    "    #print(feature['id'])"
   ]
  },
  {
   "cell_type": "code",
   "execution_count": 19,
   "metadata": {
    "ExecuteTime": {
     "end_time": "2020-05-28T09:04:54.097330Z",
     "start_time": "2020-05-28T09:04:53.919808Z"
    }
   },
   "outputs": [],
   "source": [
    "choroplethData = Choropleth(\n",
    "    geo_data=geojson_data,\n",
    "    choro_data=pop,\n",
    "    colormap=linear.YlOrRd_04,\n",
    "    style={'fillOpacity': 0.8, 'dashArray': '5, 5'}\n",
    ")"
   ]
  },
  {
   "cell_type": "code",
   "execution_count": 20,
   "metadata": {
    "ExecuteTime": {
     "end_time": "2020-05-28T09:05:05.712925Z",
     "start_time": "2020-05-28T09:05:05.670074Z"
    }
   },
   "outputs": [
    {
     "data": {
      "application/vnd.jupyter.widget-view+json": {
       "model_id": "3d6dcdb8d6554967968e76d16fcc88f2",
       "version_major": 2,
       "version_minor": 0
      },
      "text/plain": [
       "Map(center=[4.546647, 22.373178], controls=(ZoomControl(options=['position', 'zoom_in_text', 'zoom_in_title', …"
      ]
     },
     "metadata": {},
     "output_type": "display_data"
    }
   ],
   "source": [
    "choro_map = Map(center = (4.546647, 22.373178), zoom = 2)\n",
    "choro_map.add_layer(choroplethData)\n",
    "choro_map"
   ]
  },
  {
   "cell_type": "markdown",
   "metadata": {},
   "source": [
    "### Clustered Maps"
   ]
  },
  {
   "cell_type": "code",
   "execution_count": 22,
   "metadata": {
    "ExecuteTime": {
     "end_time": "2020-05-28T09:19:44.259317Z",
     "start_time": "2020-05-28T09:19:43.677638Z"
    }
   },
   "outputs": [
    {
     "data": {
      "application/vnd.jupyter.widget-view+json": {
       "model_id": "d936b21345c641daa22024e1bb71a385",
       "version_major": 2,
       "version_minor": 0
      },
      "text/plain": [
       "Map(center=[4.546647, 22.373178], controls=(ZoomControl(options=['position', 'zoom_in_text', 'zoom_in_title', …"
      ]
     },
     "metadata": {},
     "output_type": "display_data"
    }
   ],
   "source": [
    "pointsMap = Map(basemap=basemaps.CartoDB.Positron, center=center, zoom=zoom)\n",
    "PointData = GeoData(geo_dataframe = africa_acled.sample(500), name = 'Countries')\n",
    "\n",
    "\n",
    "pointsMap.add_layer(PointData)\n",
    "pointsMap"
   ]
  },
  {
   "cell_type": "code",
   "execution_count": 40,
   "metadata": {
    "ExecuteTime": {
     "end_time": "2020-05-28T09:38:43.059096Z",
     "start_time": "2020-05-28T09:38:39.732989Z"
    },
    "scrolled": false
   },
   "outputs": [
    {
     "data": {
      "application/vnd.jupyter.widget-view+json": {
       "model_id": "6e8242f5c3e24d42a33dd73122c6287c",
       "version_major": 2,
       "version_minor": 0
      },
      "text/plain": [
       "Map(center=[4.546647, 22.373178], controls=(ZoomControl(options=['position', 'zoom_in_text', 'zoom_in_title', …"
      ]
     },
     "metadata": {},
     "output_type": "display_data"
    }
   ],
   "source": [
    "\n",
    "clusterMap = Map(center=center, zoom=zoom)\n",
    "clusterMap.add_layer(MarkerCluster(\n",
    "    markers=[Marker(location=geolocation.coords[0][::-1]) for geolocation in africa_acled.sample(1000).geometry])\n",
    "    )\n",
    "clusterMap"
   ]
  },
  {
   "cell_type": "markdown",
   "metadata": {},
   "source": [
    "## Controls"
   ]
  },
  {
   "cell_type": "code",
   "execution_count": 41,
   "metadata": {
    "ExecuteTime": {
     "end_time": "2020-05-28T09:38:54.811553Z",
     "start_time": "2020-05-28T09:38:54.541277Z"
    },
    "scrolled": false
   },
   "outputs": [
    {
     "data": {
      "application/vnd.jupyter.widget-view+json": {
       "model_id": "6e8242f5c3e24d42a33dd73122c6287c",
       "version_major": 2,
       "version_minor": 0
      },
      "text/plain": [
       "Map(center=[4.546647, 22.373178], controls=(ZoomControl(options=['position', 'zoom_in_text', 'zoom_in_title', …"
      ]
     },
     "metadata": {},
     "output_type": "display_data"
    }
   ],
   "source": [
    "search = SearchControl(position=\"topleft\", \n",
    "                       url='https://nominatim.openstreetmap.org/search?format=json&q={s}', \n",
    "                       zoom=5,\n",
    "                       property_name='display_name',\n",
    "                       marker=marker\n",
    "                      )\n",
    "clusterMap.add_control(search)\n",
    "\n",
    "clusterMap"
   ]
  },
  {
   "cell_type": "code",
   "execution_count": 42,
   "metadata": {
    "ExecuteTime": {
     "end_time": "2020-05-28T09:38:59.077334Z",
     "start_time": "2020-05-28T09:38:59.069357Z"
    }
   },
   "outputs": [],
   "source": [
    "control = FullScreenControl()\n",
    "clusterMap.add_control(control)"
   ]
  },
  {
   "cell_type": "code",
   "execution_count": null,
   "metadata": {},
   "outputs": [],
   "source": []
  }
 ],
 "metadata": {
  "hide_input": false,
  "kernelspec": {
   "display_name": "geo",
   "language": "python",
   "name": "geo"
  },
  "language_info": {
   "codemirror_mode": {
    "name": "ipython",
    "version": 3
   },
   "file_extension": ".py",
   "mimetype": "text/x-python",
   "name": "python",
   "nbconvert_exporter": "python",
   "pygments_lexer": "ipython3",
   "version": "3.7.6"
  }
 },
 "nbformat": 4,
 "nbformat_minor": 4
}
